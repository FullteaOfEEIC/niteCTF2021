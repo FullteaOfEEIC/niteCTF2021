{
 "cells": [
  {
   "cell_type": "code",
   "execution_count": 1,
   "id": "signed-pendant",
   "metadata": {},
   "outputs": [],
   "source": [
    "hash_ = \"12f3b9faec781b0e84184a6fa7c44c81416e5b1855633a2a2730295324724efe\""
   ]
  },
  {
   "cell_type": "code",
   "execution_count": 2,
   "id": "finnish-going",
   "metadata": {},
   "outputs": [],
   "source": [
    "import hashlib\n",
    "import requests\n",
    "from bs4 import BeautifulSoup\n",
    "import re\n",
    "from tqdm.auto import tqdm"
   ]
  },
  {
   "cell_type": "code",
   "execution_count": 3,
   "id": "pleasant-church",
   "metadata": {},
   "outputs": [],
   "source": [
    "url = \"http://www.script-o-rama.com/movie_scripts/a1/bee-movie-script-transcript-seinfeld.html\"\n",
    "page = requests.get(url)\n",
    "soup = BeautifulSoup(page.content)"
   ]
  },
  {
   "cell_type": "code",
   "execution_count": 4,
   "id": "theoretical-toolbox",
   "metadata": {},
   "outputs": [],
   "source": [
    "text =  soup.find(\"pre\").text\n",
    "text = text.replace(\"\\n\", \" \")\n",
    "text = re.sub(\"\\s+\", \" \", text)"
   ]
  },
  {
   "cell_type": "code",
   "execution_count": 5,
   "id": "parental-athens",
   "metadata": {},
   "outputs": [
    {
     "data": {
      "application/vnd.jupyter.widget-view+json": {
       "model_id": "ec7f55fa535a4ed683e6a481449574dd",
       "version_major": 2,
       "version_minor": 0
      },
      "text/plain": [
       "  0%|          | 0/9480 [00:00<?, ?it/s]"
      ]
     },
     "metadata": {},
     "output_type": "display_data"
    },
    {
     "name": "stdout",
     "output_type": "stream",
     "text": [
      "Oinnabon\n"
     ]
    }
   ],
   "source": [
    "for word in tqdm(text.split(\" \")):\n",
    "    pw = \"salt\"+word\n",
    "    if hashlib.sha256(pw.encode()).hexdigest() == hash_:\n",
    "        print(word)"
   ]
  },
  {
   "cell_type": "code",
   "execution_count": null,
   "id": "orange-calibration",
   "metadata": {},
   "outputs": [],
   "source": []
  }
 ],
 "metadata": {
  "kernelspec": {
   "display_name": "Python 3 (ipykernel)",
   "language": "python",
   "name": "python3"
  },
  "language_info": {
   "codemirror_mode": {
    "name": "ipython",
    "version": 3
   },
   "file_extension": ".py",
   "mimetype": "text/x-python",
   "name": "python",
   "nbconvert_exporter": "python",
   "pygments_lexer": "ipython3",
   "version": "3.9.5"
  }
 },
 "nbformat": 4,
 "nbformat_minor": 5
}
